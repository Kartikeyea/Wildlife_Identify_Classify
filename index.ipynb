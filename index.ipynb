**Wildlife_identification_and_classification**

Installing_dataset

!mkdir -p ~/.kaggle
!cp kaggle.json ~/.kaggle/

!kaggle datasets download -d kartikeyeasingh/5-wildlife-identification-classification

import zipfile
zip_ref = zipfile.ZipFile('/content/5-wildlife-identification-classification.zip', 'r')
zip_ref.extractall('/content')
zip_ref.close()

Import_from_libraries

import tensorflow as tf
from tensorflow.keras.models import Sequential
from tensorflow.keras.layers import Conv2D, MaxPooling2D, Flatten, Dense
from tensorflow.keras.preprocessing.image import ImageDataGenerator
import matplotlib.pyplot as plt
import seaborn as sns
import numpy as np
import cv2

!pip install google-colab
from google.colab.patches import cv2_imshow

Display_sample_image

tf.keras.preprocessing.image.load_img('/content/Animal/train/ELEPHANT/0024d1579c2c4b4395e53a39f70d49f7_18.jpg',)

tf.keras.preprocessing.image.load_img('/content/Animal/train/HORSE/1175510683-H.jpg')

tf.keras.preprocessing.image.load_img('/content/Animal/train/LION/213066DD-02AB-4054-8B9E533F108218FD_source.jpg')

tf.keras.preprocessing.image.load_img('/content/Animal/train/cat/pixabay_cat_001849.jpg')

tf.keras.preprocessing.image.load_img('/content/Animal/train/dog/flickr_dog_000320.jpg')

Define_path

path = '/content/Animal/train'

Training_and_testing_basis

training_generator = ImageDataGenerator(rescale=1./255,
                                        rotation_range=7,
                                        horizontal_flip=True,
                                        zoom_range=0.2)
training_dataset = training_generator.flow_from_directory('/content/Animal/train',
                                                        target_size = (64, 64),
                                                        batch_size = 32,
                                                        class_mode = 'categorical',
                                                        shuffle = True)

training_dataset.classes

training_dataset.class_indices

test_generator = ImageDataGenerator(rescale=1./255)
test_dataset = test_generator.flow_from_directory('/content/Animal/val',
                                                     target_size = (64, 64),
                                                     batch_size = 1,
                                                     class_mode = 'categorical',
                                                     shuffle = False)

Construction_and_training_of_the_neural_network

network = Sequential()
network.add(Conv2D(32, (3,3), input_shape = (64,64,3), activation='relu'))
network.add(MaxPooling2D(pool_size=(2,2)))

network.add(Conv2D(32, (3,3), activation='relu'))
network.add(MaxPooling2D(pool_size=(2,2)))

network.add(Flatten())

network.add(Dense(units = 6272, activation='relu'))
network.add(Dense(units = 6272, activation='relu'))
network.add(Dense(units = 5, activation='softmax'))

network.summary()

network.compile(optimizer='Adam', loss='categorical_crossentropy', metrics = ['accuracy'])

from keras.utils.vis_utils import plot_model
plot_model(network, to_file='model_plot.png', show_shapes=True, show_layer_names=True)

history = network.fit(training_dataset, epochs=27)

Plotting_accuracy_and_loss 

plt.plot(history.history['accuracy'])
plt.title('model_cnn_acc')
plt.ylabel('Accuracy')
plt.xlabel('Epochs')
plt.show()

plt.plot(history.history['loss'])
plt.title('model_cnn_loss')
plt.ylabel('Loss')
plt.xlabel('Epochs')
plt.show()

Neural_network_evaluation

forecasts = network.predict(test_dataset)
forecasts

forecasts = np.argmax(forecasts, axis = 1)
forecasts

test_dataset.classes

from sklearn.metrics import accuracy_score
accuracy_score(test_dataset.classes, forecasts)

from sklearn.metrics import confusion_matrix
cm = confusion_matrix(test_dataset.classes, forecasts)
cm

sns.heatmap(cm, annot=True);

from sklearn.metrics import classification_report
print(classification_report(test_dataset.classes, forecasts))

Saving_network_as_JSON

# serialize network to JSON
network_json = network.to_json()
with open("network.json", "w") as json_file:
    json_file.write(network_json)

# serialize weights to HDF5
network.save_weights("network.h5")
print("Saved network to disk")

# load json and create network
from keras.models import model_from_json
json_file = open('network.json', 'r')
loaded_network_json = json_file.read()
json_file.close()
loaded_network = model_from_json(loaded_network_json)
loaded_network

# load weights into new network
loaded_network.load_weights("network.h5")
print("Loaded network from disk")

Single_image_classification

image = cv2.imread('/content/Animal/val/HORSE/01_040.png')

cv2_imshow(image)

image = cv2.resize(image, (64, 64))
cv2_imshow(image)

image = image / 255
image

image.shape

image = image.reshape(-1, 64, 64, 3)
image.shape

result = network(image)
result

result = np.argmax(result)
result

test_dataset.class_indices

if result == 0:
    print('ELEPHANT')
else:
    if result == 1:
        print('HORSE')
    else:
        if result == 2:
            print("LION")
        else:
            if result == 3:
                print("CAT")
            else:
                if result == 4:
                    print("DOG")
                else:
                    print("Other")
